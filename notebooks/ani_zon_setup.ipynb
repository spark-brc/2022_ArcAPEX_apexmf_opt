{
 "cells": [
  {
   "cell_type": "code",
   "execution_count": null,
   "id": "3540ea63",
   "metadata": {},
   "outputs": [],
   "source": [
    "import os\n",
    "import flopy\n",
    "import pyemu\n",
    "import pandas as pd\n",
    "from apexmf import apexmf_pst_utils, apexmf_pst_par\n",
    "import apexmf"
   ]
  },
  {
   "cell_type": "code",
   "execution_count": null,
   "id": "2f61cdac",
   "metadata": {},
   "outputs": [],
   "source": [
    "apexmf.__version__"
   ]
  },
  {
   "cell_type": "markdown",
   "id": "61bba622",
   "metadata": {},
   "source": [
    "# 0. Set up and write apexmf.con file"
   ]
  },
  {
   "cell_type": "markdown",
   "id": "83de4f75",
   "metadata": {},
   "source": [
    "### Model Setup"
   ]
  },
  {
   "cell_type": "markdown",
   "id": "03d0fb20",
   "metadata": {},
   "source": [
    "- Simulation Period \n",
    "    * Jan. 01, 2002 ~ Dec. 31, 2002 with no warm-up period.\n",
    "- Measurement Duration\n",
    "    * Streamflow - Jan. 01, 2002 ~ Dec. 31, 2002\n",
    "    * Watertable - vary in 2002\n",
    "    <br/><br/>\n",
    "- Calibration / Validation\n",
    "    * 1/1/2002 - 12/31/2002 for monthly average stream discharge (1 year)\n",
    "    * 1/1/2002 - 12/31/2002 for daily depth to water (1 year)\n",
    "    <br/><br/>\n",
    "\n",
    "    - APEX parameters:\n",
    "    p12, p16, p17, p91, p92, p95\n",
    "    - MODFLOW parameters:\n",
    "    hk01, hk02, sy01, sy02"
   ]
  },
  {
   "cell_type": "code",
   "execution_count": null,
   "id": "7affbfbb",
   "metadata": {},
   "outputs": [],
   "source": [
    "# working directory and file names\n",
    "wd = \"D:\\\\Workshops\\\\20220316_ArcAPEX Training\\\\Day03\\\\model_optimization\\\\animas_zon_cal\\\\animas_zon_cal\"\n",
    "mfwd = os.path.join(wd, \"MODFLOW\")\n",
    "rch_file = 'SITE75.RCH'\n",
    "sao_file = 'SITE75.SAO'\n",
    "# calibration period\n",
    "sim_start_day = '1/1/2002'\n",
    "cali_start_day = '1/1/2002'\n",
    "cali_end_day = '12/31/2002'\n",
    "# time step\n",
    "time_step = 'month'\n",
    "# activate river parm\n",
    "#riv_parm = 'n'\n",
    "# extract simulation (what our targets)\n",
    "# gw_level = 'y'\n",
    "# fdc = 'y'\n",
    "# locations\n",
    "subs = [12, 57, 75]\n",
    "grid_ids = [5895, 6273]\n",
    "\n",
    "# pilot points included\n",
    "os.chdir(wd)"
   ]
  },
  {
   "cell_type": "code",
   "execution_count": null,
   "id": "5dcda86c",
   "metadata": {},
   "outputs": [],
   "source": [
    "apexmf_pst_utils.create_apexmf_con?"
   ]
  },
  {
   "cell_type": "code",
   "execution_count": null,
   "id": "f76e57f0",
   "metadata": {},
   "outputs": [],
   "source": [
    "con =  apexmf_pst_utils.create_apexmf_con(\n",
    "                        wd, sim_start_day, cali_start_day, cali_end_day,\n",
    "                        rch_file, subs,\n",
    "                        gw_level=True,\n",
    "                        grids=grid_ids,\n",
    "                        time_step=time_step\n",
    "                        )"
   ]
  },
  {
   "cell_type": "code",
   "execution_count": null,
   "id": "3b0adfa8",
   "metadata": {
    "scrolled": false
   },
   "outputs": [],
   "source": [
    "con"
   ]
  },
  {
   "cell_type": "code",
   "execution_count": null,
   "id": "9054d0f9",
   "metadata": {},
   "outputs": [],
   "source": [
    "apexmf_pst_utils.init_setup(wd)"
   ]
  },
  {
   "cell_type": "markdown",
   "id": "e9936868",
   "metadata": {},
   "source": [
    "# 1. Create Template file"
   ]
  },
  {
   "cell_type": "markdown",
   "id": "4bc08365",
   "metadata": {},
   "source": [
    "## 1.1 MODFLOW & APEX"
   ]
  },
  {
   "cell_type": "code",
   "execution_count": null,
   "id": "11c529b6",
   "metadata": {},
   "outputs": [],
   "source": [
    "# pval file\n",
    "pval_file = os.path.join(mfwd, 'mf_1000.pval')\n",
    "# parmfile\n",
    "parm_file = 'PARM1501.DAT'"
   ]
  },
  {
   "cell_type": "code",
   "execution_count": null,
   "id": "aff72826",
   "metadata": {},
   "outputs": [],
   "source": [
    "gw_par = pyemu.utils.gw_utils.modflow_pval_to_template_file(pval_file, tpl_file=None)\n",
    "print(gw_par)"
   ]
  },
  {
   "cell_type": "code",
   "execution_count": null,
   "id": "da5e4d72",
   "metadata": {},
   "outputs": [],
   "source": [
    "# Create parm template file\n",
    "sw_par = apexmf_pst_par.parm_to_tpl_file()\n",
    "sw_par"
   ]
  },
  {
   "cell_type": "markdown",
   "id": "3414bf6a",
   "metadata": {},
   "source": [
    "# 2. Build instruction files (streamflow / watertable)\n",
    "## 2.1 Streamflow (*.RCH)"
   ]
  },
  {
   "cell_type": "code",
   "execution_count": null,
   "id": "f5437765",
   "metadata": {},
   "outputs": [],
   "source": [
    "# extract month_streamflow\n",
    "apexmf_pst_utils.extract_month_stf(rch_file, subs, sim_start_day, cali_start_day, cali_end_day)"
   ]
  },
  {
   "cell_type": "markdown",
   "id": "818a1d5d",
   "metadata": {},
   "source": [
    "### 2.1.1. Create instruction files for each stf_sim file using the 'streamflow.obd' file"
   ]
  },
  {
   "cell_type": "code",
   "execution_count": null,
   "id": "8d3b082b",
   "metadata": {},
   "outputs": [],
   "source": [
    "# because we have 3 streamgages let's loop for them\n",
    "# read streamobd and get column names\n",
    "stf_obd = pd.read_csv('stf_mon.obd',sep='\\t', index_col=0,parse_dates=True,na_values=[-999, ''])\n",
    "obds = stf_obd.columns.tolist()\n",
    "print(obds)\n",
    "sim_files = ['stf_{:03d}.txt'.format(x) for x in subs]\n",
    "print(sim_files)"
   ]
  },
  {
   "cell_type": "code",
   "execution_count": null,
   "id": "c8d08420",
   "metadata": {},
   "outputs": [],
   "source": [
    "apexmf_pst_utils.stf_obd_to_ins?"
   ]
  },
  {
   "cell_type": "code",
   "execution_count": null,
   "id": "04c8a018",
   "metadata": {},
   "outputs": [],
   "source": [
    "# create instruction files for each sim file\n",
    "for i in range(len(sim_files)):\n",
    "    apexmf_pst_utils.stf_obd_to_ins(sim_files[i], obds[i], sim_start_day, cali_end_day, time_step=time_step)"
   ]
  },
  {
   "cell_type": "code",
   "execution_count": null,
   "id": "5c0d0e5c",
   "metadata": {},
   "outputs": [],
   "source": [
    "# We do have watertable data now\n",
    "grid_ids = [5895, 6273]\n",
    "apexmf_pst_utils.extract_depth_to_water(grid_ids, '1/1/2002', '12/31/2002')\n",
    "\n"
   ]
  },
  {
   "cell_type": "code",
   "execution_count": null,
   "id": "c1205a0c",
   "metadata": {},
   "outputs": [],
   "source": [
    "apexmf_pst_utils.mf_obd_to_ins('dtw_5895.txt', 'gw_124', sim_start_day, cali_end_day)\n",
    "apexmf_pst_utils.mf_obd_to_ins('dtw_6273.txt', 'gw_098', sim_start_day, cali_end_day)"
   ]
  },
  {
   "cell_type": "markdown",
   "id": "f08ad229",
   "metadata": {},
   "source": [
    "# 3. Create a dummy pst file "
   ]
  },
  {
   "cell_type": "code",
   "execution_count": null,
   "id": "5dcdeefb",
   "metadata": {},
   "outputs": [],
   "source": [
    "io_files = pyemu.helpers.parse_dir_for_io_files('.')\n",
    "pst = pyemu.Pst.from_io_files(*io_files)\n",
    "pyemu.helpers.pst_from_io_files(io_files[0], io_files[1], io_files[2], io_files[3], 'ani_dummy.pst')\n",
    "io_files"
   ]
  },
  {
   "cell_type": "markdown",
   "id": "2ced72d9",
   "metadata": {},
   "source": [
    "# 4. Manual Adjustment"
   ]
  },
  {
   "cell_type": "code",
   "execution_count": null,
   "id": "7226dd7c",
   "metadata": {
    "scrolled": true
   },
   "outputs": [],
   "source": [
    "par = pst.parameter_data\n",
    "par"
   ]
  },
  {
   "cell_type": "markdown",
   "id": "6aca55d4",
   "metadata": {},
   "source": [
    "## 4.1. Change parameter group name"
   ]
  },
  {
   "cell_type": "code",
   "execution_count": null,
   "id": "239981c6",
   "metadata": {},
   "outputs": [],
   "source": [
    "for i in range(len(par)):\n",
    "    if (par.iloc[i, 0][:2]) == 'sy':\n",
    "        par.iloc[i, 6] = 'sy'\n",
    "    elif par.iloc[i, 0][:2] == 'hk':\n",
    "        par.iloc[i, 6] = 'hk'\n",
    "    elif par.iloc[i, 0][:1] == 'p':\n",
    "        par.iloc[i, 6] = 'apex'\n",
    "print(par)"
   ]
  },
  {
   "cell_type": "markdown",
   "id": "3d8e2b56",
   "metadata": {},
   "source": [
    "## 4.2. Set par ranges and initial values for parameters"
   ]
  },
  {
   "cell_type": "code",
   "execution_count": null,
   "id": "dc38117f",
   "metadata": {},
   "outputs": [],
   "source": [
    "# for MODFLOW parameters\n",
    "count = 0\n",
    "for i in range(len(par)):\n",
    "    if (par.iloc[i, 6] == 'hk') and (par.iloc[i, 0] == 'hk01'):  \n",
    "        par.iloc[i, 3] = 0.001    \n",
    "        par.iloc[i, 4] = 0.001 / 100\n",
    "        par.iloc[i, 5] = 0.001 * 100\n",
    "    elif (par.iloc[i, 6] == 'hk') and (par.iloc[i, 0] == 'hk02'):  \n",
    "        par.iloc[i, 3] = 5   \n",
    "        par.iloc[i, 4] = 5 / 100\n",
    "        par.iloc[i, 5] = 5 * 100\n",
    "    elif (par.iloc[i, 6] == 'sy') and (par.iloc[i, 0] == 'sy01'):  \n",
    "        par.iloc[i, 3] = 0.1      \n",
    "        par.iloc[i, 4] = 1.000000e-03\n",
    "        par.iloc[i, 5] = 8.000000e-01\n",
    "    elif (par.iloc[i, 6] == 'sy') and (par.iloc[i, 0] == 'sy02'):\n",
    "        par.iloc[i, 3] = 0.1 \n",
    "        par.iloc[i, 4] = 1.000000e-03\n",
    "        par.iloc[i, 5] = 8.000000e-01\n",
    "    else:\n",
    "        count += 1\n",
    "print(count)"
   ]
  },
  {
   "cell_type": "code",
   "execution_count": null,
   "id": "f8139936",
   "metadata": {},
   "outputs": [],
   "source": [
    "par"
   ]
  },
  {
   "cell_type": "code",
   "execution_count": null,
   "id": "4ad506bd",
   "metadata": {},
   "outputs": [],
   "source": [
    "pst.parameter_data = apexmf_pst_par.export_pardb_pest(par)"
   ]
  },
  {
   "cell_type": "code",
   "execution_count": null,
   "id": "e0194e80",
   "metadata": {},
   "outputs": [],
   "source": [
    "par = pst.parameter_data\n",
    "par"
   ]
  },
  {
   "cell_type": "markdown",
   "id": "1a689ae1",
   "metadata": {},
   "source": [
    "# 5. Replace dummy obd data with real ones"
   ]
  },
  {
   "cell_type": "code",
   "execution_count": null,
   "id": "8d7435ba",
   "metadata": {},
   "outputs": [],
   "source": [
    "# set observation group\n",
    "obd = pst.observation_data\n",
    "obd"
   ]
  },
  {
   "cell_type": "code",
   "execution_count": null,
   "id": "6d97c6b1",
   "metadata": {},
   "outputs": [],
   "source": [
    "# Change obd group name\n",
    "for i in range(len(obd)):\n",
    "    if obd.iloc[i, 0][:2] == 'gw':\n",
    "        obd.iloc[i, 3] = obd.iloc[i, 0][:6]\n",
    "    else:\n",
    "        obd.iloc[i, 3] = obd.iloc[i, 0][:-7]\n",
    "obd"
   ]
  },
  {
   "cell_type": "markdown",
   "id": "00db6962",
   "metadata": {},
   "source": [
    "## 5.1 Import measured data"
   ]
  },
  {
   "cell_type": "code",
   "execution_count": null,
   "id": "d3cb7770",
   "metadata": {},
   "outputs": [],
   "source": [
    "gwt_obd = pd.read_csv('MODFLOW/dtw_day.obd',\n",
    "                       sep='\\t',\n",
    "                       index_col = 0,\n",
    "                       parse_dates = True,\n",
    "                       na_values=[-999, '']\n",
    "                     )\n",
    "gwt_obd = gwt_obd['1/1/2002': '12/31/2002']\n",
    "gwt_obd = gwt_obd[['gw_098', 'gw_124']]\n",
    "gwt_obd"
   ]
  },
  {
   "cell_type": "code",
   "execution_count": null,
   "id": "2c149a98",
   "metadata": {},
   "outputs": [],
   "source": [
    "stf_obd = pd.read_csv('stf_mon.obd',\n",
    "                       sep='\\t',\n",
    "                       index_col = 0,\n",
    "                       parse_dates = True,\n",
    "                       na_values=[-999, '']\n",
    "                     )\n",
    "stf_obd = stf_obd['1/1/2002': '12/31/2002']\n",
    "stf_obd\n"
   ]
  },
  {
   "cell_type": "code",
   "execution_count": null,
   "id": "e3604aa6",
   "metadata": {},
   "outputs": [],
   "source": [
    "# Get sub list based on obd order\n",
    "sub_order = []\n",
    "for i in obd.obgnme.tolist():\n",
    "    if i not in sub_order:\n",
    "        sub_order.append(i)\n",
    "sub_order"
   ]
  },
  {
   "cell_type": "code",
   "execution_count": null,
   "id": "756a0cf2",
   "metadata": {},
   "outputs": [],
   "source": [
    "# get total list from each sub obd, delete na vals\n",
    "tot_obd = []\n",
    "for i in sub_order[:2]:\n",
    "    tot_obd += gwt_obd[i].dropna().tolist()\n",
    "for j in sub_order[2:]:\n",
    "    tot_obd += stf_obd[j].dropna().tolist()    \n",
    "len(tot_obd)\n",
    "# tot_obd"
   ]
  },
  {
   "cell_type": "code",
   "execution_count": null,
   "id": "563cd2fa",
   "metadata": {},
   "outputs": [],
   "source": [
    "obd.loc[:, 'obsval'] = tot_obd\n",
    "obd"
   ]
  },
  {
   "cell_type": "markdown",
   "id": "3bc73002",
   "metadata": {},
   "source": [
    "# 6. Export control file"
   ]
  },
  {
   "cell_type": "code",
   "execution_count": null,
   "id": "6a379a1e",
   "metadata": {},
   "outputs": [],
   "source": [
    "pst.control_data.noptmax=0\n",
    "pst.model_command = 'python forward_run.py'\n",
    "pst.model_input_data = apexmf_pst_utils.modify_mf_tpl_path(pst.model_input_data)\n",
    "pst.write('ani_pest.pst')"
   ]
  },
  {
   "cell_type": "code",
   "execution_count": null,
   "id": "06e94b5e",
   "metadata": {},
   "outputs": [],
   "source": []
  }
 ],
 "metadata": {
  "kernelspec": {
   "display_name": "apexmf_pest",
   "language": "python",
   "name": "apexmf_pest"
  },
  "language_info": {
   "codemirror_mode": {
    "name": "ipython",
    "version": 3
   },
   "file_extension": ".py",
   "mimetype": "text/x-python",
   "name": "python",
   "nbconvert_exporter": "python",
   "pygments_lexer": "ipython3",
   "version": "3.7.12"
  }
 },
 "nbformat": 4,
 "nbformat_minor": 5
}
