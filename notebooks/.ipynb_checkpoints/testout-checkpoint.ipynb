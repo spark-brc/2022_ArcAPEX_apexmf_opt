{
 "cells": [
  {
   "cell_type": "code",
   "execution_count": 1,
   "id": "71d03be2",
   "metadata": {},
   "outputs": [
    {
     "name": "stderr",
     "output_type": "stream",
     "text": [
      "D:/spark-brc_gits/apexmf_git/apexmf\\apexmf_pst_par.py:388: DeprecationWarning: invalid escape sequence \\s\n",
      "D:/spark-brc_gits/apexmf_git/apexmf\\apexmf_pst_par.py:400: DeprecationWarning: invalid escape sequence \\s\n",
      "D:/spark-brc_gits/apexmf_git/apexmf\\apexmf_pst_par.py:401: DeprecationWarning: invalid escape sequence \\s\n"
     ]
    }
   ],
   "source": [
    "%matplotlib notebook\n",
    "# %config InlineBackend.figure_format = 'svg'\n",
    "import sys\n",
    "import os\n",
    "import numpy as np\n",
    "import pandas as pd\n",
    "import flopy as flopy\n",
    "import pyemu\n",
    "import shapefile #the pyshp module\n",
    "from pyemu.pst.pst_utils import SFMT,IFMT,FFMT,pst_config\n",
    "import matplotlib.pyplot as plt\n",
    "\n",
    "sys.path.insert(0, 'D:/spark-brc_gits/apexmf_git/apexmf')\n",
    "# from apexmf_pst_pkgs import apexmf_pst_utils, apexmf_pst_par\n",
    "import apexmf_pst_utils, apexmf_pst_par\n",
    "# %matplotlib inline"
   ]
  },
  {
   "cell_type": "code",
   "execution_count": null,
   "id": "86eed64c",
   "metadata": {},
   "outputs": [],
   "source": []
  },
  {
   "cell_type": "code",
   "execution_count": 2,
   "id": "553119bb",
   "metadata": {},
   "outputs": [],
   "source": [
    "wd = \"D:\\\\Projects\\\\RegionalCalibration\\\\Autocalibration\\\\ani_apexmf_fire_cal\"\n",
    "pstfile = \"ani_pest_3rd.pst\"\n",
    "rch_file = \"SITE75.RCH\"\n",
    "os.chdir(wd)"
   ]
  },
  {
   "cell_type": "code",
   "execution_count": null,
   "id": "3c5ce499",
   "metadata": {},
   "outputs": [],
   "source": []
  },
  {
   "cell_type": "code",
   "execution_count": 19,
   "id": "0f370ceb",
   "metadata": {},
   "outputs": [],
   "source": [
    "parm_pars_up = pd.read_csv(\n",
    "        'PARM1501.DAT',\n",
    "#         skiprows=2, \n",
    "        header=None,\n",
    "        sep=r'\\s+',\n",
    "        usecols=[i for i in range(2)]\n",
    "        )"
   ]
  },
  {
   "cell_type": "code",
   "execution_count": 20,
   "id": "85c1fb55",
   "metadata": {},
   "outputs": [],
   "source": [
    "parm_pars_up = parm_pars_up.iloc[:35, :]"
   ]
  },
  {
   "cell_type": "code",
   "execution_count": 21,
   "id": "c08dcbbe",
   "metadata": {},
   "outputs": [],
   "source": [
    "F8s2 = lambda x: \"{0:>7.2f}\".format(float(x))\n",
    "FF8s2 = lambda x: \"{0:>8.2f}\".format(float(x))"
   ]
  },
  {
   "cell_type": "code",
   "execution_count": 22,
   "id": "d460b7a7",
   "metadata": {},
   "outputs": [],
   "source": [
    "for i in range(2):\n",
    "    parm_pars_up.iloc[:, i] = parm_pars_up.iloc[:, i].map(F8s2)"
   ]
  },
  {
   "cell_type": "code",
   "execution_count": 24,
   "id": "3627533f",
   "metadata": {},
   "outputs": [],
   "source": [
    "with open('test.test', 'w') as f:\n",
    "    f.write(\"ptf ~\\n\")\n",
    "    f.write(parm_pars_up.to_string(\n",
    "                                col_space=0,\n",
    "                                index=False,\n",
    "                                header=False,\n",
    "                                justify=\"right\")\n",
    "        )"
   ]
  },
  {
   "cell_type": "code",
   "execution_count": null,
   "id": "28b1112b",
   "metadata": {},
   "outputs": [],
   "source": []
  }
 ],
 "metadata": {
  "kernelspec": {
   "display_name": "apexmf_pest",
   "language": "python",
   "name": "apexmf_pest"
  },
  "language_info": {
   "codemirror_mode": {
    "name": "ipython",
    "version": 3
   },
   "file_extension": ".py",
   "mimetype": "text/x-python",
   "name": "python",
   "nbconvert_exporter": "python",
   "pygments_lexer": "ipython3",
   "version": "3.7.12"
  }
 },
 "nbformat": 4,
 "nbformat_minor": 5
}
