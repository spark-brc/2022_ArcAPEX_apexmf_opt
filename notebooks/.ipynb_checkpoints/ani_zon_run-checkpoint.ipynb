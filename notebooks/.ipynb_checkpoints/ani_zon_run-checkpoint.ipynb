{
 "cells": [
  {
   "cell_type": "code",
   "execution_count": null,
   "id": "136f13c5",
   "metadata": {},
   "outputs": [],
   "source": [
    "%matplotlib inline\n",
    "import os\n",
    "import sys\n",
    "import pyemu\n",
    "from apexmf import apexmf_pst_utils, apexmf_pst_par, apexmf_pst_viz"
   ]
  },
  {
   "cell_type": "markdown",
   "id": "dabb15c9",
   "metadata": {},
   "source": [
    "# 1. Specify a path to your main"
   ]
  },
  {
   "cell_type": "code",
   "execution_count": null,
   "id": "19e62f3e",
   "metadata": {},
   "outputs": [],
   "source": [
    "wd = \"D:\\\\Workshops\\\\20220316_ArcAPEX Training\\\\Day03\\\\model_optimization\\\\animas_zon_cal\\\\animas_zon_cal\"\n",
    "os.chdir(wd)"
   ]
  },
  {
   "cell_type": "markdown",
   "id": "2fff5461",
   "metadata": {},
   "source": [
    "# 2. Initial run for adjusting weights"
   ]
  },
  {
   "cell_type": "code",
   "execution_count": null,
   "id": "d8fed7e0",
   "metadata": {},
   "outputs": [],
   "source": [
    "casename = \"ani_pest\""
   ]
  },
  {
   "cell_type": "code",
   "execution_count": null,
   "id": "9376022d",
   "metadata": {},
   "outputs": [],
   "source": [
    "os.system(\"start cmd /k i64pest {0}\".format(casename))"
   ]
  },
  {
   "cell_type": "markdown",
   "id": "15bea295",
   "metadata": {},
   "source": [
    "# 3. Reweight"
   ]
  },
  {
   "cell_type": "code",
   "execution_count": null,
   "id": "844fc784",
   "metadata": {},
   "outputs": [],
   "source": [
    "pestoutfile = \"ani_pest_rw.pst\"\n",
    "contrib = 100000"
   ]
  },
  {
   "cell_type": "code",
   "execution_count": null,
   "id": "53255a85",
   "metadata": {},
   "outputs": [],
   "source": [
    "os.system(\"start cmd /k i64pwtadj1 {0} {1} {2}\".format(casename, pestoutfile, contrib))"
   ]
  },
  {
   "cell_type": "markdown",
   "id": "6456c5b7",
   "metadata": {},
   "source": [
    "# 4. Run Parallel PEST with BeoPEST"
   ]
  },
  {
   "cell_type": "code",
   "execution_count": null,
   "id": "97e9abae",
   "metadata": {},
   "outputs": [],
   "source": [
    "apexmf_pst_utils.execute_beopest?"
   ]
  },
  {
   "cell_type": "code",
   "execution_count": null,
   "id": "73103f6e",
   "metadata": {},
   "outputs": [],
   "source": [
    "apexmf_pst_utils.execute_beopest(wd, pestoutfile, num_workers=5)"
   ]
  },
  {
   "cell_type": "markdown",
   "id": "4524fa33",
   "metadata": {},
   "source": [
    "# 5. Run or add workers separately"
   ]
  },
  {
   "cell_type": "code",
   "execution_count": null,
   "id": "5f286760",
   "metadata": {},
   "outputs": [],
   "source": [
    "apexmf_pst_utils.execute_workers(\n",
    "    wd, pestoutfile, \"172.20.1.9\", num_workers=1,\n",
    "    )\n"
   ]
  },
  {
   "cell_type": "code",
   "execution_count": null,
   "id": "d6eb5549",
   "metadata": {},
   "outputs": [],
   "source": []
  },
  {
   "cell_type": "code",
   "execution_count": null,
   "id": "22b63e32",
   "metadata": {},
   "outputs": [],
   "source": [
    "pst = pyemu.Pst(os.path.join(wd,pestoutfile))\n",
    "pst.phi"
   ]
  },
  {
   "cell_type": "code",
   "execution_count": null,
   "id": "660a1d16",
   "metadata": {
    "scrolled": true
   },
   "outputs": [],
   "source": [
    "pst.res.loc[pst.nnz_obs_names,:]"
   ]
  },
  {
   "cell_type": "code",
   "execution_count": null,
   "id": "74712318",
   "metadata": {
    "scrolled": false
   },
   "outputs": [],
   "source": [
    "os.chdir(wd)\n",
    "apexmf_pst_viz.phi_progress_plot(pestoutfile)"
   ]
  },
  {
   "cell_type": "code",
   "execution_count": null,
   "id": "282e58c6",
   "metadata": {
    "scrolled": false
   },
   "outputs": [],
   "source": [
    "figs = pst.plot(kind=\"1to1\")"
   ]
  },
  {
   "cell_type": "code",
   "execution_count": null,
   "id": "223ceaba",
   "metadata": {},
   "outputs": [],
   "source": []
  },
  {
   "cell_type": "markdown",
   "id": "a85a7a4d",
   "metadata": {},
   "source": [
    "# 6. Linear Analysis"
   ]
  },
  {
   "cell_type": "markdown",
   "id": "98239b57",
   "metadata": {},
   "source": [
    "## 6.1 Statistics - Create the \"param.unc\" file"
   ]
  },
  {
   "cell_type": "code",
   "execution_count": null,
   "id": "07005f31",
   "metadata": {},
   "outputs": [],
   "source": [
    "create_param_unc?"
   ]
  },
  {
   "cell_type": "code",
   "execution_count": null,
   "id": "0004aced",
   "metadata": {},
   "outputs": [],
   "source": [
    "create_param_unc(\"qsm_reweight.pst\")"
   ]
  },
  {
   "cell_type": "code",
   "execution_count": null,
   "id": "70d4e5b8",
   "metadata": {},
   "outputs": [],
   "source": [
    "test = create_param_unc(\"qsm_reweight.pst\")"
   ]
  },
  {
   "cell_type": "markdown",
   "id": "62488f98",
   "metadata": {},
   "source": [
    "## 6.2 Calibration with SVD"
   ]
  },
  {
   "cell_type": "code",
   "execution_count": null,
   "id": "bb426c03",
   "metadata": {},
   "outputs": [],
   "source": [
    "execute_beopest(wd, \"svd-reg.pst\", 15)"
   ]
  }
 ],
 "metadata": {
  "kernelspec": {
   "display_name": "apexmf_pest",
   "language": "python",
   "name": "apexmf_pest"
  },
  "language_info": {
   "codemirror_mode": {
    "name": "ipython",
    "version": 3
   },
   "file_extension": ".py",
   "mimetype": "text/x-python",
   "name": "python",
   "nbconvert_exporter": "python",
   "pygments_lexer": "ipython3",
   "version": "3.7.12"
  }
 },
 "nbformat": 4,
 "nbformat_minor": 5
}
