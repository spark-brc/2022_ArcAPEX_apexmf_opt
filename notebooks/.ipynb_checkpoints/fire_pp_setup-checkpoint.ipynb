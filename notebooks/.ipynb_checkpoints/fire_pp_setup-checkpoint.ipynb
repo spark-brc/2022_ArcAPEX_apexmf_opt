{
 "cells": [
  {
   "cell_type": "markdown",
   "metadata": {},
   "source": [
    "# Animas PEST Pilot Point Setup"
   ]
  },
  {
   "cell_type": "markdown",
   "metadata": {},
   "source": [
    "## Import libraries"
   ]
  },
  {
   "cell_type": "code",
   "execution_count": null,
   "metadata": {},
   "outputs": [],
   "source": [
    "import sys\n",
    "import os\n",
    "import numpy as np\n",
    "import pandas as pd\n",
    "import flopy as flopy\n",
    "import pyemu\n",
    "import shapefile #the pyshp module\n",
    "from pyemu.pst.pst_utils import SFMT,IFMT,FFMT,pst_config\n",
    "import matplotlib.pyplot as plt\n",
    "# from apexmf import apexmf_pst_utils, apexmf_pst_par, apexmf_utils\n",
    "sys.path.insert(0, 'D:/spark-brc_gits/apexmf_git/apexmf')\n",
    "import apexmf_pst_par"
   ]
  },
  {
   "cell_type": "markdown",
   "metadata": {},
   "source": [
    "# 0. Set up and write apexmf.con file"
   ]
  },
  {
   "cell_type": "code",
   "execution_count": null,
   "metadata": {},
   "outputs": [],
   "source": [
    "# working directory and file names\n",
    "wd = \"D:\\\\Projects\\\\RegionalCalibration\\\\Autocalibration\\\\ani_apexmf_fire_cal\"\n",
    "rch_file = 'SITE75.RCH'\n",
    "sao_file = 'SITE75.SAO'\n",
    "# calibration period\n",
    "sim_start_day = '1/1/1987'\n",
    "cali_start_day = '1/1/1992'\n",
    "cali_end_day = '12/31/2002'\n",
    "# time step\n",
    "time_step = 'day'\n",
    "# activate river parm\n",
    "riv_parm = 'y'\n",
    "\n",
    "# extract simulation (what our targets)\n",
    "gw_level = 'n'\n",
    "fdc = 'y'\n",
    "# locations\n",
    "subs = [12, 57, 75]\n",
    "lai_subs = [32, 34]\n",
    "\n",
    "# pilot points included\n",
    "pps = ['hk0pp.dat', 'sy0pp.dat']\n",
    "\n",
    "os.chdir(wd)"
   ]
  },
  {
   "cell_type": "code",
   "execution_count": null,
   "metadata": {},
   "outputs": [],
   "source": [
    "con =  apexmf_pst_utils.create_apexmf_con(\n",
    "                        wd, sim_start_day, cali_start_day, cali_end_day,\n",
    "                        rch_file, subs,\n",
    "                        lai_file=sao_file, lai_subs=lai_subs,\n",
    "                        riv_parm=riv_parm,\n",
    "                        fdc=fdc,\n",
    "                        pp_included=pps\n",
    "                        )"
   ]
  },
  {
   "cell_type": "code",
   "execution_count": null,
   "metadata": {},
   "outputs": [],
   "source": [
    "con"
   ]
  },
  {
   "cell_type": "code",
   "execution_count": null,
   "metadata": {
    "scrolled": true
   },
   "outputs": [],
   "source": [
    "apexmf_pst_utils.init_setup(wd)"
   ]
  },
  {
   "cell_type": "markdown",
   "metadata": {},
   "source": [
    "# 1. Create Template file"
   ]
  },
  {
   "cell_type": "markdown",
   "metadata": {},
   "source": [
    "## 1.1 MODFLOW (Skipped: already set) "
   ]
  },
  {
   "cell_type": "markdown",
   "metadata": {},
   "source": [
    "## 1.2 APEX | PARM (Skipped: already set) "
   ]
  },
  {
   "cell_type": "code",
   "execution_count": null,
   "metadata": {},
   "outputs": [],
   "source": [
    "# sw_par = apexmf_pst_par.parm_to_tpl_file()\n",
    "# sw_par"
   ]
  },
  {
   "cell_type": "markdown",
   "metadata": {},
   "source": [
    "## 1.3 APEX | CROPCOM (added TOP, TBS, DMLA)\n",
    "1. modify crop.parm file\n",
    "    - {pararameter name}_{crop name}\n",
    "2. create a template file for CROPCOM.DAT parameter file based on information in crop.parm file"
   ]
  },
  {
   "cell_type": "code",
   "execution_count": null,
   "metadata": {},
   "outputs": [],
   "source": [
    "apexmf_pst_par.crop_pars_tpl()"
   ]
  },
  {
   "cell_type": "markdown",
   "metadata": {},
   "source": [
    "# 2. Create instruction file"
   ]
  },
  {
   "cell_type": "markdown",
   "metadata": {},
   "source": [
    "## 2.1 MODFLOW (Skipped: already set) "
   ]
  },
  {
   "cell_type": "markdown",
   "metadata": {},
   "source": [
    "## 2.2 new stf_mon \n",
    "- convert cement creek timeseries of streamflow to flow duration curve value obd"
   ]
  },
  {
   "cell_type": "markdown",
   "metadata": {},
   "source": [
    "# Create instruction file for streamflow (cement fdc_slope)/ leaf area index "
   ]
  },
  {
   "cell_type": "code",
   "execution_count": null,
   "metadata": {},
   "outputs": [],
   "source": [
    "# read sao file and store in dataframe\n",
    "df = apexmf_utils.read_sao(sao_file)\n",
    "# extract mon_lai\n",
    "lai_sim_files = apexmf_pst_utils.extract_day_lai(df, lai_subs, sim_start_day, cali_start_day, cali_end_day)"
   ]
  },
  {
   "cell_type": "code",
   "execution_count": null,
   "metadata": {},
   "outputs": [],
   "source": [
    "# because we have 2 locatins, let's loop for them\n",
    "lai_obd = pd.read_csv(\n",
    "                    'lai_day.obd',\n",
    "                    sep='\\t',\n",
    "                    index_col=0,\n",
    "                    parse_dates=True,\n",
    "                    na_values=[-999, '']\n",
    "                    )"
   ]
  },
  {
   "cell_type": "code",
   "execution_count": null,
   "metadata": {
    "scrolled": true
   },
   "outputs": [],
   "source": [
    "obds = lai_obd.columns.tolist()\n",
    "obds = obds[::-1]\n",
    "obds"
   ]
  },
  {
   "cell_type": "code",
   "execution_count": null,
   "metadata": {},
   "outputs": [],
   "source": [
    "# create instruction files for each sim file\n",
    "for i in range(len(lai_sim_files)):\n",
    "    apexmf_pst_utils.lai_obd_to_ins(lai_sim_files[i], obds[i], cali_start_day, cali_end_day, time_step='day')"
   ]
  },
  {
   "cell_type": "code",
   "execution_count": null,
   "metadata": {},
   "outputs": [],
   "source": [
    "# read cement obd file and convert fdc obd\n",
    "stf_obd = pd.read_csv(\n",
    "                    'stf_day.obd',\n",
    "                    sep='\\t',\n",
    "                    index_col=0,\n",
    "                    parse_dates=True,\n",
    "                    na_values=[-999, '']\n",
    "                    )\n",
    "stf_obd"
   ]
  },
  {
   "cell_type": "code",
   "execution_count": null,
   "metadata": {},
   "outputs": [],
   "source": [
    "for i in subs:\n",
    "    apexmf_pst_utils.tobd_fdcobd(stf_obd, 'str_{:03d}'.format(i), 10, 90, 20, plot_show=True)"
   ]
  },
  {
   "cell_type": "code",
   "execution_count": null,
   "metadata": {},
   "outputs": [],
   "source": [
    "apexmf_pst_utils.extract_slopesFrTimeSim?"
   ]
  },
  {
   "cell_type": "code",
   "execution_count": null,
   "metadata": {},
   "outputs": [],
   "source": [
    "fdc_sims_files = apexmf_pst_utils.extract_slopesFrTimeSim(\n",
    "        rch_file, subs, '1/1/1987', '1/1/1992', '12/31/2002',  10, 90, 20, plot_show=True)"
   ]
  },
  {
   "cell_type": "code",
   "execution_count": null,
   "metadata": {},
   "outputs": [],
   "source": [
    "fdc_obds = ['fdc_str_{:03d}.obd'.format(i) for i in subs]\n",
    "print(fdc_obds)"
   ]
  },
  {
   "cell_type": "code",
   "execution_count": null,
   "metadata": {},
   "outputs": [],
   "source": [
    "apexmf_pst_utils.fdc_obd_to_ins(fdc_sims_files, fdc_obds)"
   ]
  },
  {
   "cell_type": "code",
   "execution_count": null,
   "metadata": {},
   "outputs": [],
   "source": [
    "io_files = pyemu.helpers.parse_dir_for_io_files('.')\n",
    "pst = pyemu.Pst.from_io_files(*io_files)\n",
    "pyemu.helpers.pst_from_io_files(io_files[0], io_files[1], io_files[2], io_files[3], 'ani_fire_dummpy.pst')\n",
    "\n",
    "# print(os.chdir(\"..\"))\n",
    "io_files"
   ]
  },
  {
   "cell_type": "code",
   "execution_count": null,
   "metadata": {},
   "outputs": [],
   "source": [
    "# load the pre-constructed pst\n",
    "# pst = pyemu.Pst(os.path.join(wd, 'ani_fire_dummpy.pst'))"
   ]
  },
  {
   "cell_type": "code",
   "execution_count": null,
   "metadata": {},
   "outputs": [],
   "source": [
    "par = pst.parameter_data\n",
    "par"
   ]
  },
  {
   "cell_type": "code",
   "execution_count": null,
   "metadata": {},
   "outputs": [],
   "source": [
    "for i in range(len(par)):\n",
    "    if (par.iloc[i, 0][:2]) == 'sy':\n",
    "        par.iloc[i, 6] = 'sy'\n",
    "    elif par.iloc[i, 0][:7] == 'rivbot_':\n",
    "        par.iloc[i, 6] = 'rivbot'\n",
    "    elif par.iloc[i, 0][:6] == 'rivcd_':\n",
    "        par.iloc[i, 6] = 'rivcd'\n",
    "    elif par.iloc[i, 0][:2] == 'hk':\n",
    "        par.iloc[i, 6] = 'hk'\n",
    "    elif par.iloc[i, 0][:1] == 'p':\n",
    "        par.iloc[i, 6] = 'apex'\n",
    "    elif (par.iloc[i, 0][:2]) == 'cp':\n",
    "        par.iloc[i, 6] = 'cp'\n"
   ]
  },
  {
   "cell_type": "code",
   "execution_count": null,
   "metadata": {},
   "outputs": [],
   "source": [
    "par.index.rename('parnme1', inplace=True)"
   ]
  },
  {
   "cell_type": "code",
   "execution_count": null,
   "metadata": {},
   "outputs": [],
   "source": [
    "par = par.sort_values(by=['pargp', 'parnme'])\n",
    "par"
   ]
  },
  {
   "cell_type": "code",
   "execution_count": null,
   "metadata": {},
   "outputs": [],
   "source": [
    "for i in range(len(par)):\n",
    "    if par.iloc[i, 6] == 'rivbot':\n",
    "        par.iloc[i, 3] = 5.0001   # initial    \n",
    "        par.iloc[i, 4] = 0.1   # lower\n",
    "        par.iloc[i, 5] = 10   # upper\n",
    "        par.iloc[i, 8] = -5   # offset\n",
    "    elif par.iloc[i, 6] == 'sy':\n",
    "        par.iloc[i, 3] = 1.000000e-01 \n",
    "        par.iloc[i, 4] = 1.000000e-03\n",
    "        par.iloc[i, 5] = 0.800000e+00  \n",
    "    elif par.iloc[i, 6] == 'hk':\n",
    "        par.iloc[i, 3] = 1.000000e-01 \n",
    "        par.iloc[i, 4] = 1.000000e-02\n",
    "        par.iloc[i, 5] = 5.000000e+02\n",
    "    elif par.iloc[i, 6] == 'rivcd':\n",
    "        par.iloc[i, 3] = 50.01   # initial    \n",
    "        par.iloc[i, 4] = 0.1   # lower\n",
    "        par.iloc[i, 5] = 100   # upper\n",
    "        par.iloc[i, 8] = -50   # offset"
   ]
  },
  {
   "cell_type": "code",
   "execution_count": null,
   "metadata": {},
   "outputs": [],
   "source": [
    "# k01 = [87, 88, 92, 93, 94, 95]\n",
    "# k01 = ['hk{:04d}'.format(i) for i in k01]\n",
    "# for i in par.parnme:\n",
    "#     for j in k01:\n",
    "#         if i == j:\n",
    "#             par.loc[i, 'parval1'] = 0.1\n",
    "#             par.loc[i, 'parlbnd'] = 0.1* 0.01\n",
    "#             par.loc[i, 'parubnd'] = 0.1* 100\n",
    "            "
   ]
  },
  {
   "cell_type": "code",
   "execution_count": null,
   "metadata": {},
   "outputs": [],
   "source": [
    "# APEX\n",
    "pst.parameter_data = apexmf_pst_par.export_pardb_pest(par)"
   ]
  },
  {
   "cell_type": "code",
   "execution_count": null,
   "metadata": {},
   "outputs": [],
   "source": [
    "par = pst.parameter_data\n",
    "par"
   ]
  },
  {
   "cell_type": "code",
   "execution_count": null,
   "metadata": {},
   "outputs": [],
   "source": [
    "obd = pst.observation_data\n",
    "obd"
   ]
  },
  {
   "cell_type": "code",
   "execution_count": null,
   "metadata": {},
   "outputs": [],
   "source": [
    "for i in range(len(obd)):\n",
    "    if obd.iloc[i, 0][:2] == 'fd':\n",
    "        obd.iloc[i, 3] = obd.iloc[i, 0][:7]\n",
    "    elif obd.iloc[i, 0][:5] == 'sub34':\n",
    "        obd.iloc[i, 3] = 'lai034'\n",
    "    elif obd.iloc[i, 0][:5] == 'sub32':\n",
    "        obd.iloc[i, 3] = 'lai032'\n",
    "    else:\n",
    "        obd.iloc[i, 3] = obd.iloc[i, 0][:7]"
   ]
  },
  {
   "cell_type": "code",
   "execution_count": null,
   "metadata": {},
   "outputs": [],
   "source": [
    "print(obd)"
   ]
  },
  {
   "cell_type": "markdown",
   "metadata": {},
   "source": [
    "## 2.3. Import measured data"
   ]
  },
  {
   "cell_type": "markdown",
   "metadata": {},
   "source": [
    "### 2.3.1 fdc"
   ]
  },
  {
   "cell_type": "code",
   "execution_count": null,
   "metadata": {},
   "outputs": [],
   "source": [
    "tot_fdc_obd = []\n",
    "fdc_obd_files = ['fdc_str{:03d}.obd'.format(i) for i in subs]\n",
    "fdc_obd_files"
   ]
  },
  {
   "cell_type": "code",
   "execution_count": null,
   "metadata": {},
   "outputs": [],
   "source": [
    "for i in fdc_obd_files:\n",
    "    fdc_obd = pd.read_csv(\n",
    "    'fdc_str_012.obd',\n",
    "    sep='\\t',\n",
    "    index_col = 0,\n",
    "    na_values=[-999, ''],\n",
    "    header=None)\n",
    "    tot_fdc_obd += fdc_obd.iloc[:,0].tolist()"
   ]
  },
  {
   "cell_type": "code",
   "execution_count": null,
   "metadata": {},
   "outputs": [],
   "source": [
    "lai_obd = pd.read_csv('lai_day.obd',\n",
    "                       sep='\\t',\n",
    "                       index_col = 0,\n",
    "                       parse_dates = True,\n",
    "#                        usecols=[0, 3, 4],\n",
    "                       na_values=[-999, '']\n",
    "                     )\n",
    "lai_obd = lai_obd[cali_start_day:cali_end_day]"
   ]
  },
  {
   "cell_type": "code",
   "execution_count": null,
   "metadata": {},
   "outputs": [],
   "source": [
    "# gwt_obd = gwt_obd[gwtcols]\n",
    "lai_obd = lai_obd.reindex(sorted(lai_obd.columns), axis=1)\n",
    "lai_obd"
   ]
  },
  {
   "cell_type": "code",
   "execution_count": null,
   "metadata": {},
   "outputs": [],
   "source": [
    "# get total list from each sub obd, delete na vals\n",
    "tot_obd = []\n",
    "tot_obd += tot_fdc_obd\n",
    "for j in lai_obd.columns:\n",
    "    tot_obd += lai_obd.loc[:, j].dropna().tolist()    \n",
    "len(tot_obd)"
   ]
  },
  {
   "cell_type": "code",
   "execution_count": null,
   "metadata": {
    "scrolled": false
   },
   "outputs": [],
   "source": [
    "tot_obd"
   ]
  },
  {
   "cell_type": "code",
   "execution_count": null,
   "metadata": {},
   "outputs": [],
   "source": [
    "obd.loc[:, 'obsval'] = tot_obd\n",
    "obd"
   ]
  },
  {
   "cell_type": "markdown",
   "metadata": {},
   "source": [
    "# 4. Export control file"
   ]
  },
  {
   "cell_type": "code",
   "execution_count": null,
   "metadata": {},
   "outputs": [],
   "source": [
    "pst.control_data.noptmax=0\n",
    "pst.model_command = 'python forward_run.py'\n",
    "pst.write('ani_fire_pest.pst')"
   ]
  },
  {
   "cell_type": "code",
   "execution_count": null,
   "metadata": {},
   "outputs": [],
   "source": []
  }
 ],
 "metadata": {
  "anaconda-cloud": {},
  "interpreter": {
   "hash": "c34b50cb1ba5c850193d6a55a2574a292f18a05386a0c4e8d0cfaba5c634fd89"
  },
  "kernelspec": {
   "display_name": "Python 3",
   "language": "python",
   "name": "python3"
  },
  "language_info": {
   "codemirror_mode": {
    "name": "ipython",
    "version": 3
   },
   "file_extension": ".py",
   "mimetype": "text/x-python",
   "name": "python",
   "nbconvert_exporter": "python",
   "pygments_lexer": "ipython3",
   "version": "3.7.12"
  }
 },
 "nbformat": 4,
 "nbformat_minor": 4
}
