{
 "cells": [
  {
   "cell_type": "markdown",
   "metadata": {
    "toc-hr-collapsed": false
   },
   "source": [
    "# Run PEST with BeoPEST\n",
    "\n",
    "### This should be super easy..."
   ]
  },
  {
   "cell_type": "code",
   "execution_count": 1,
   "metadata": {
    "tags": []
   },
   "outputs": [
    {
     "name": "stdout",
     "output_type": "stream",
     "text": [
      "flopy is installed in C:\\Users\\seonggyu.park\\Miniconda3\\envs\\sm_pest\\lib\\site-packages\\flopy\n"
     ]
    }
   ],
   "source": [
    "%matplotlib inline\n",
    "import os, shutil\n",
    "import sys\n",
    "sys.path.append(\"..\")\n",
    "import numpy as np\n",
    "from IPython.display import Image\n",
    "import pandas as pd\n",
    "import matplotlib.pyplot as plt\n",
    "\n",
    "import flopy as flopy\n",
    "import pyemu\n",
    "sys.path.insert(0, 'D:/spark-brc_gits/apexmf_git/apexmf_pkgs')\n",
    "# from apexmf_pst_pkgs import apexmf_pst_utils, apexmf_pst_par\n",
    "import apexmf_pst_utils"
   ]
  },
  {
   "cell_type": "markdown",
   "metadata": {},
   "source": [
    "# 1. Specify a path to your master"
   ]
  },
  {
   "cell_type": "code",
   "execution_count": 4,
   "metadata": {},
   "outputs": [],
   "source": [
    "wd = \"D:/Projects/Watersheds/Animas/Analysis/APEX-MODFLOWs/calibrations/v03\""
   ]
  },
  {
   "cell_type": "code",
   "execution_count": 5,
   "metadata": {},
   "outputs": [],
   "source": [
    "os.chdir(wd)"
   ]
  },
  {
   "cell_type": "markdown",
   "metadata": {},
   "source": [
    "# 2. Initial run for adjusting weights"
   ]
  },
  {
   "cell_type": "code",
   "execution_count": 84,
   "metadata": {},
   "outputs": [],
   "source": [
    "pstfile = 'animas_pest.pst'\n",
    "pstnosed = 'ani_pest_nosed.pst'"
   ]
  },
  {
   "cell_type": "code",
   "execution_count": 80,
   "metadata": {},
   "outputs": [
    {
     "data": {
      "text/plain": [
       "0"
      ]
     },
     "execution_count": 80,
     "metadata": {},
     "output_type": "execute_result"
    }
   ],
   "source": []
  },
  {
   "cell_type": "markdown",
   "metadata": {},
   "source": [
    "# Let's make sediment weight zeros"
   ]
  },
  {
   "cell_type": "code",
   "execution_count": 87,
   "metadata": {},
   "outputs": [
    {
     "name": "stdout",
     "output_type": "stream",
     "text": [
      "noptmax:0, npar_adj:100, nnz_obs:917\n"
     ]
    }
   ],
   "source": [
    "pst = pyemu.Pst(os.path.join(wd, pstfile))\n",
    "obd = pst.observation_data\n",
    "for i in range(len(obd)):\n",
    "    if obd.iloc[i, 0][:3] == 'sed':\n",
    "        obd.iloc[i, 2] = obd.iloc[i, 2] * 0\n",
    "pst.observation_data = obd\n",
    "pst.write(pstnosed)\n"
   ]
  },
  {
   "cell_type": "code",
   "execution_count": 88,
   "metadata": {},
   "outputs": [
    {
     "data": {
      "text/plain": [
       "0"
      ]
     },
     "execution_count": 88,
     "metadata": {},
     "output_type": "execute_result"
    }
   ],
   "source": [
    "os.system(\"start cmd /k i64pest {0}\".format(pstnosed))"
   ]
  },
  {
   "cell_type": "markdown",
   "metadata": {},
   "source": [
    "# 3. Reweight"
   ]
  },
  {
   "cell_type": "code",
   "execution_count": 103,
   "metadata": {},
   "outputs": [],
   "source": [
    "casename = 'ani_pest_nosed.pst'\n",
    "pestoutfile = 'ani_pest_nosed_rw.pst'\n",
    "contrib = 2.01760E+05"
   ]
  },
  {
   "cell_type": "code",
   "execution_count": 94,
   "metadata": {},
   "outputs": [
    {
     "data": {
      "text/plain": [
       "0"
      ]
     },
     "execution_count": 94,
     "metadata": {},
     "output_type": "execute_result"
    }
   ],
   "source": [
    "os.system(\"start cmd /k i64pwtadj1 {0} {1} {2}\".format(casename, pestoutfile, contrib))"
   ]
  },
  {
   "cell_type": "code",
   "execution_count": 95,
   "metadata": {},
   "outputs": [],
   "source": [
    "# Stream 1 GW 0.1\n",
    "# load the pre-constructed pst\n",
    "pst = pyemu.Pst(os.path.join(wd, pestoutfile))\n",
    "obd = pst.observation_data"
   ]
  },
  {
   "cell_type": "code",
   "execution_count": 96,
   "metadata": {},
   "outputs": [
    {
     "name": "stdout",
     "output_type": "stream",
     "text": [
      "noptmax:50, npar_adj:100, nnz_obs:917\n"
     ]
    }
   ],
   "source": [
    "for i in range(len(obd)):\n",
    "    if obd.iloc[i, 0][:2] == 'gw':\n",
    "        obd.iloc[i, 2] = obd.iloc[i, 2] * 0.5\n",
    "\n",
    "pst.observation_data = obd\n",
    "pst.write(pestoutfile)"
   ]
  },
  {
   "cell_type": "code",
   "execution_count": 104,
   "metadata": {},
   "outputs": [
    {
     "data": {
      "text/plain": [
       "'D:/Projects/Watersheds/Animas/Analysis/APEX-MODFLOWs/calibrations/v03'"
      ]
     },
     "execution_count": 104,
     "metadata": {},
     "output_type": "execute_result"
    }
   ],
   "source": [
    "wd"
   ]
  },
  {
   "cell_type": "code",
   "execution_count": 102,
   "metadata": {},
   "outputs": [
    {
     "data": {
      "text/plain": [
       "'ani_pest_nosed_rw02.pst'"
      ]
     },
     "execution_count": 102,
     "metadata": {},
     "output_type": "execute_result"
    }
   ],
   "source": [
    "pestoutfile"
   ]
  },
  {
   "cell_type": "code",
   "execution_count": 105,
   "metadata": {},
   "outputs": [
    {
     "name": "stdout",
     "output_type": "stream",
     "text": [
      "noptmax:50, npar_adj:100, nnz_obs:917\n"
     ]
    }
   ],
   "source": [
    "pst = pyemu.Pst(os.path.join(wd, pestoutfile))\n",
    "pestoutfile02 = 'ani_pest_nosed_rw02.pst'\n",
    "pst.write(pestoutfile02)"
   ]
  },
  {
   "cell_type": "markdown",
   "metadata": {},
   "source": [
    "Go check the pst file"
   ]
  },
  {
   "cell_type": "markdown",
   "metadata": {},
   "source": [
    "# 4. Run Parallel PEST with BeoPEST"
   ]
  },
  {
   "cell_type": "code",
   "execution_count": null,
   "metadata": {},
   "outputs": [],
   "source": [
    "execute_beopest?"
   ]
  },
  {
   "cell_type": "code",
   "execution_count": 106,
   "metadata": {},
   "outputs": [],
   "source": [
    "apexmf_pst_utils.execute_beopest(\n",
    "    wd, pestoutfile02,\n",
    "    reuse_workers=True,\n",
    "    num_workers=12,\n",
    "    # restart=True,\n",
    "    copy_files=['MODFLOW/mf_1000.nwt', 'APEXCONT.DAT']\n",
    "    )"
   ]
  },
  {
   "cell_type": "markdown",
   "metadata": {},
   "source": [
    "# 5. Run or add workers separately"
   ]
  },
  {
   "cell_type": "code",
   "execution_count": null,
   "metadata": {},
   "outputs": [],
   "source": [
    "execute_workers?"
   ]
  },
  {
   "cell_type": "code",
   "execution_count": 11,
   "metadata": {},
   "outputs": [],
   "source": [
    "apexmf_pst_utils.execute_workers(\n",
    "    wd, pestoutfile, \"172.20.1.9\", num_workers=5, start_id=28,\n",
    "    # worker_root='..', port=4005,\n",
    "    reuse_workers=True,\n",
    "    # copy_files=['model.in', 'model.in.tpl']\n",
    "    )"
   ]
  },
  {
   "cell_type": "code",
   "execution_count": null,
   "metadata": {},
   "outputs": [],
   "source": []
  },
  {
   "cell_type": "markdown",
   "metadata": {},
   "source": [
    "- An easy way to formulate a list of prior parameter standard deviations (this being one option for filling a parameter uncertainty file) is to divide the difference between these bounds (or their logs for parameters that are log-transformed) by 4.0. \n",
    "- This procedure relies on the the implicit assumption that parameters are (log)normally distributed and that their bounds span their 95% confidence intervals."
   ]
  },
  {
   "cell_type": "code",
   "execution_count": 5,
   "metadata": {},
   "outputs": [
    {
     "data": {
      "text/plain": [
       "\u001b[1;31mSignature:\u001b[0m \u001b[0mcreate_param_unc\u001b[0m\u001b[1;33m(\u001b[0m\u001b[0mpst_file\u001b[0m\u001b[1;33m,\u001b[0m \u001b[0munc_file\u001b[0m\u001b[1;33m=\u001b[0m\u001b[1;32mNone\u001b[0m\u001b[1;33m,\u001b[0m \u001b[0msampl_n\u001b[0m\u001b[1;33m=\u001b[0m\u001b[1;32mNone\u001b[0m\u001b[1;33m)\u001b[0m\u001b[1;33m\u001b[0m\u001b[1;33m\u001b[0m\u001b[0m\n",
       "\u001b[1;31mDocstring:\u001b[0m\n",
       "create a parameter uncertainty file from an existing *.pst file\n",
       "\n",
       "Args:\n",
       "    - pst_file (`str`): path and name of existing *.pst file\n",
       "    - unc_file (`str`): name of parameter uncertainty file\n",
       "                        If `None`, then `param.unc` is used.\n",
       "                        Defult is `None`.\n",
       "    - sampl_n ('int'): sample number from normal distribution\n",
       "                        If `None`, then `1000` is used.\n",
       "                        Defult is `None`.\n",
       "Returns:\n",
       "    `pandas.DataFrame`: a dataframe of log standard deviation for each parameter\n",
       "    `param.unc file`\n",
       "\n",
       "Example:\n",
       "    sm_pst_stats.create_param_unc('my.pst', 'my.unc', 2000)\n",
       "\u001b[1;31mFile:\u001b[0m      e:\\qsm_300_zon_p\\sm_pst_pkgs\\sm_pst_stats.py\n",
       "\u001b[1;31mType:\u001b[0m      function\n"
      ]
     },
     "metadata": {},
     "output_type": "display_data"
    }
   ],
   "source": [
    "create_param_unc?"
   ]
  },
  {
   "cell_type": "code",
   "execution_count": 12,
   "metadata": {},
   "outputs": [
    {
     "name": "stdout",
     "output_type": "stream",
     "text": [
      "param.unc file has been created...\n"
     ]
    },
    {
     "data": {
      "text/html": [
       "<div>\n",
       "<style scoped>\n",
       "    .dataframe tbody tr th:only-of-type {\n",
       "        vertical-align: middle;\n",
       "    }\n",
       "\n",
       "    .dataframe tbody tr th {\n",
       "        vertical-align: top;\n",
       "    }\n",
       "\n",
       "    .dataframe thead th {\n",
       "        text-align: right;\n",
       "    }\n",
       "</style>\n",
       "<table border=\"1\" class=\"dataframe\">\n",
       "  <thead>\n",
       "    <tr style=\"text-align: right;\">\n",
       "      <th></th>\n",
       "      <th>parlbnd</th>\n",
       "      <th>parubnd</th>\n",
       "      <th>mu</th>\n",
       "      <th>sigma</th>\n",
       "      <th>lower_95</th>\n",
       "      <th>upper_95</th>\n",
       "      <th>log_sd</th>\n",
       "    </tr>\n",
       "    <tr>\n",
       "      <th>parnme</th>\n",
       "      <th></th>\n",
       "      <th></th>\n",
       "      <th></th>\n",
       "      <th></th>\n",
       "      <th></th>\n",
       "      <th></th>\n",
       "      <th></th>\n",
       "    </tr>\n",
       "  </thead>\n",
       "  <tbody>\n",
       "    <tr>\n",
       "      <th>ed</th>\n",
       "      <td>1.0000000000e+00</td>\n",
       "      <td>1.0000000000e+02</td>\n",
       "      <td>50.500000</td>\n",
       "      <td>24.750000</td>\n",
       "      <td>1.932049</td>\n",
       "      <td>99.067951</td>\n",
       "      <td>0.427479</td>\n",
       "    </tr>\n",
       "    <tr>\n",
       "      <th>kc</th>\n",
       "      <td>2.5924320000e-03</td>\n",
       "      <td>2.5924320000e+01</td>\n",
       "      <td>12.963456</td>\n",
       "      <td>6.480432</td>\n",
       "      <td>0.246636</td>\n",
       "      <td>25.680276</td>\n",
       "      <td>0.504386</td>\n",
       "    </tr>\n",
       "    <tr>\n",
       "      <th>kdfdc</th>\n",
       "      <td>2.0347200000e-03</td>\n",
       "      <td>2.0347200000e+01</td>\n",
       "      <td>10.174617</td>\n",
       "      <td>5.086291</td>\n",
       "      <td>0.193577</td>\n",
       "      <td>20.155658</td>\n",
       "      <td>0.504386</td>\n",
       "    </tr>\n",
       "    <tr>\n",
       "      <th>kked</th>\n",
       "      <td>5.1840000000e-03</td>\n",
       "      <td>5.1840000000e+01</td>\n",
       "      <td>25.922592</td>\n",
       "      <td>12.958704</td>\n",
       "      <td>0.493190</td>\n",
       "      <td>51.351994</td>\n",
       "      <td>0.504386</td>\n",
       "    </tr>\n",
       "    <tr>\n",
       "      <th>kms</th>\n",
       "      <td>1.2960000000e-03</td>\n",
       "      <td>1.2960000000e+01</td>\n",
       "      <td>6.480648</td>\n",
       "      <td>3.239676</td>\n",
       "      <td>0.123297</td>\n",
       "      <td>12.837999</td>\n",
       "      <td>0.504386</td>\n",
       "    </tr>\n",
       "    <tr>\n",
       "      <th>kpw</th>\n",
       "      <td>2.5924320000e-03</td>\n",
       "      <td>2.5924320000e+01</td>\n",
       "      <td>12.963456</td>\n",
       "      <td>6.480432</td>\n",
       "      <td>0.246636</td>\n",
       "      <td>25.680276</td>\n",
       "      <td>0.504386</td>\n",
       "    </tr>\n",
       "    <tr>\n",
       "      <th>qal</th>\n",
       "      <td>2.9600000000e+01</td>\n",
       "      <td>1.0000000000e+03</td>\n",
       "      <td>514.800000</td>\n",
       "      <td>242.600000</td>\n",
       "      <td>38.735962</td>\n",
       "      <td>990.864038</td>\n",
       "      <td>0.351975</td>\n",
       "    </tr>\n",
       "    <tr>\n",
       "      <th>qt</th>\n",
       "      <td>5.9600000000e+01</td>\n",
       "      <td>1.5000000000e+03</td>\n",
       "      <td>779.800000</td>\n",
       "      <td>360.100000</td>\n",
       "      <td>73.160840</td>\n",
       "      <td>1486.439160</td>\n",
       "      <td>0.326967</td>\n",
       "    </tr>\n",
       "    <tr>\n",
       "      <th>riv_bot</th>\n",
       "      <td>3.5000000000e-01</td>\n",
       "      <td>6.5000000000e-01</td>\n",
       "      <td>0.500000</td>\n",
       "      <td>0.075000</td>\n",
       "      <td>0.352824</td>\n",
       "      <td>0.647176</td>\n",
       "      <td>0.065866</td>\n",
       "    </tr>\n",
       "    <tr>\n",
       "      <th>riv_cond</th>\n",
       "      <td>1.0000000000e+00</td>\n",
       "      <td>9.9000000000e+01</td>\n",
       "      <td>50.000000</td>\n",
       "      <td>24.500000</td>\n",
       "      <td>1.922634</td>\n",
       "      <td>98.077366</td>\n",
       "      <td>0.426918</td>\n",
       "    </tr>\n",
       "    <tr>\n",
       "      <th>cn2</th>\n",
       "      <td>3.0000000000e-01</td>\n",
       "      <td>7.0000000000e-01</td>\n",
       "      <td>0.500000</td>\n",
       "      <td>0.100000</td>\n",
       "      <td>0.303766</td>\n",
       "      <td>0.696234</td>\n",
       "      <td>0.090054</td>\n",
       "    </tr>\n",
       "    <tr>\n",
       "      <th>esco</th>\n",
       "      <td>1.0000000000e-03</td>\n",
       "      <td>1.0000000000e+00</td>\n",
       "      <td>0.500500</td>\n",
       "      <td>0.249750</td>\n",
       "      <td>0.010405</td>\n",
       "      <td>0.990595</td>\n",
       "      <td>0.494661</td>\n",
       "    </tr>\n",
       "    <tr>\n",
       "      <th>hru_slp</th>\n",
       "      <td>1.0000000000e-03</td>\n",
       "      <td>1.0000000000e+00</td>\n",
       "      <td>0.500500</td>\n",
       "      <td>0.249750</td>\n",
       "      <td>0.010405</td>\n",
       "      <td>0.990595</td>\n",
       "      <td>0.494661</td>\n",
       "    </tr>\n",
       "    <tr>\n",
       "      <th>ov_n</th>\n",
       "      <td>1.0000000000e-03</td>\n",
       "      <td>1.0000000000e+00</td>\n",
       "      <td>0.500500</td>\n",
       "      <td>0.249750</td>\n",
       "      <td>0.010405</td>\n",
       "      <td>0.990595</td>\n",
       "      <td>0.494661</td>\n",
       "    </tr>\n",
       "    <tr>\n",
       "      <th>slsubbsn</th>\n",
       "      <td>1.0000000000e-03</td>\n",
       "      <td>1.0000000000e+00</td>\n",
       "      <td>0.500500</td>\n",
       "      <td>0.249750</td>\n",
       "      <td>0.010405</td>\n",
       "      <td>0.990595</td>\n",
       "      <td>0.494661</td>\n",
       "    </tr>\n",
       "    <tr>\n",
       "      <th>sol_awc()</th>\n",
       "      <td>1.0000000000e-03</td>\n",
       "      <td>1.0000000000e+00</td>\n",
       "      <td>0.500500</td>\n",
       "      <td>0.249750</td>\n",
       "      <td>0.010405</td>\n",
       "      <td>0.990595</td>\n",
       "      <td>0.494661</td>\n",
       "    </tr>\n",
       "    <tr>\n",
       "      <th>ed_sy</th>\n",
       "      <td>1.5000000000e-01</td>\n",
       "      <td>5.0000000000e-01</td>\n",
       "      <td>0.325000</td>\n",
       "      <td>0.087500</td>\n",
       "      <td>0.153295</td>\n",
       "      <td>0.496705</td>\n",
       "      <td>0.127643</td>\n",
       "    </tr>\n",
       "    <tr>\n",
       "      <th>kc_sy</th>\n",
       "      <td>1.8000000000e-02</td>\n",
       "      <td>3.0000000000e-01</td>\n",
       "      <td>0.159000</td>\n",
       "      <td>0.070500</td>\n",
       "      <td>0.020655</td>\n",
       "      <td>0.297345</td>\n",
       "      <td>0.289559</td>\n",
       "    </tr>\n",
       "    <tr>\n",
       "      <th>kdfdc_sy</th>\n",
       "      <td>5.0000000000e-03</td>\n",
       "      <td>1.5000000000e-01</td>\n",
       "      <td>0.077500</td>\n",
       "      <td>0.036250</td>\n",
       "      <td>0.006365</td>\n",
       "      <td>0.148635</td>\n",
       "      <td>0.342078</td>\n",
       "    </tr>\n",
       "    <tr>\n",
       "      <th>kked_sy</th>\n",
       "      <td>1.2000000000e-02</td>\n",
       "      <td>2.5000000000e-01</td>\n",
       "      <td>0.131000</td>\n",
       "      <td>0.059500</td>\n",
       "      <td>0.014241</td>\n",
       "      <td>0.247759</td>\n",
       "      <td>0.310125</td>\n",
       "    </tr>\n",
       "    <tr>\n",
       "      <th>kms_sy</th>\n",
       "      <td>5.0000000000e-03</td>\n",
       "      <td>1.5000000000e-01</td>\n",
       "      <td>0.077500</td>\n",
       "      <td>0.036250</td>\n",
       "      <td>0.006365</td>\n",
       "      <td>0.148635</td>\n",
       "      <td>0.342078</td>\n",
       "    </tr>\n",
       "    <tr>\n",
       "      <th>kpw_sy</th>\n",
       "      <td>1.8000000000e-02</td>\n",
       "      <td>3.0000000000e-01</td>\n",
       "      <td>0.159000</td>\n",
       "      <td>0.070500</td>\n",
       "      <td>0.020655</td>\n",
       "      <td>0.297345</td>\n",
       "      <td>0.289559</td>\n",
       "    </tr>\n",
       "    <tr>\n",
       "      <th>qal_sy</th>\n",
       "      <td>1.0000000000e-01</td>\n",
       "      <td>5.0000000000e-01</td>\n",
       "      <td>0.300000</td>\n",
       "      <td>0.100000</td>\n",
       "      <td>0.103766</td>\n",
       "      <td>0.496234</td>\n",
       "      <td>0.169908</td>\n",
       "    </tr>\n",
       "    <tr>\n",
       "      <th>qt_sy</th>\n",
       "      <td>1.0000000000e-01</td>\n",
       "      <td>5.0000000000e-01</td>\n",
       "      <td>0.300000</td>\n",
       "      <td>0.100000</td>\n",
       "      <td>0.103766</td>\n",
       "      <td>0.496234</td>\n",
       "      <td>0.169908</td>\n",
       "    </tr>\n",
       "  </tbody>\n",
       "</table>\n",
       "</div>"
      ],
      "text/plain": [
       "                               parlbnd           parubnd          mu  \\\n",
       "parnme                                                                 \n",
       "ed                    1.0000000000e+00  1.0000000000e+02   50.500000   \n",
       "kc                    2.5924320000e-03  2.5924320000e+01   12.963456   \n",
       "kdfdc                 2.0347200000e-03  2.0347200000e+01   10.174617   \n",
       "kked                  5.1840000000e-03  5.1840000000e+01   25.922592   \n",
       "kms                   1.2960000000e-03  1.2960000000e+01    6.480648   \n",
       "kpw                   2.5924320000e-03  2.5924320000e+01   12.963456   \n",
       "qal                   2.9600000000e+01  1.0000000000e+03  514.800000   \n",
       "qt                    5.9600000000e+01  1.5000000000e+03  779.800000   \n",
       "riv_bot               3.5000000000e-01  6.5000000000e-01    0.500000   \n",
       "riv_cond              1.0000000000e+00  9.9000000000e+01   50.000000   \n",
       "cn2                   3.0000000000e-01  7.0000000000e-01    0.500000   \n",
       "esco                  1.0000000000e-03  1.0000000000e+00    0.500500   \n",
       "hru_slp               1.0000000000e-03  1.0000000000e+00    0.500500   \n",
       "ov_n                  1.0000000000e-03  1.0000000000e+00    0.500500   \n",
       "slsubbsn              1.0000000000e-03  1.0000000000e+00    0.500500   \n",
       "sol_awc()             1.0000000000e-03  1.0000000000e+00    0.500500   \n",
       "ed_sy                 1.5000000000e-01  5.0000000000e-01    0.325000   \n",
       "kc_sy                 1.8000000000e-02  3.0000000000e-01    0.159000   \n",
       "kdfdc_sy              5.0000000000e-03  1.5000000000e-01    0.077500   \n",
       "kked_sy               1.2000000000e-02  2.5000000000e-01    0.131000   \n",
       "kms_sy                5.0000000000e-03  1.5000000000e-01    0.077500   \n",
       "kpw_sy                1.8000000000e-02  3.0000000000e-01    0.159000   \n",
       "qal_sy                1.0000000000e-01  5.0000000000e-01    0.300000   \n",
       "qt_sy                 1.0000000000e-01  5.0000000000e-01    0.300000   \n",
       "\n",
       "                           sigma   lower_95     upper_95    log_sd  \n",
       "parnme                                                              \n",
       "ed                     24.750000   1.932049    99.067951  0.427479  \n",
       "kc                      6.480432   0.246636    25.680276  0.504386  \n",
       "kdfdc                   5.086291   0.193577    20.155658  0.504386  \n",
       "kked                   12.958704   0.493190    51.351994  0.504386  \n",
       "kms                     3.239676   0.123297    12.837999  0.504386  \n",
       "kpw                     6.480432   0.246636    25.680276  0.504386  \n",
       "qal                   242.600000  38.735962   990.864038  0.351975  \n",
       "qt                    360.100000  73.160840  1486.439160  0.326967  \n",
       "riv_bot                 0.075000   0.352824     0.647176  0.065866  \n",
       "riv_cond               24.500000   1.922634    98.077366  0.426918  \n",
       "cn2                     0.100000   0.303766     0.696234  0.090054  \n",
       "esco                    0.249750   0.010405     0.990595  0.494661  \n",
       "hru_slp                 0.249750   0.010405     0.990595  0.494661  \n",
       "ov_n                    0.249750   0.010405     0.990595  0.494661  \n",
       "slsubbsn                0.249750   0.010405     0.990595  0.494661  \n",
       "sol_awc()               0.249750   0.010405     0.990595  0.494661  \n",
       "ed_sy                   0.087500   0.153295     0.496705  0.127643  \n",
       "kc_sy                   0.070500   0.020655     0.297345  0.289559  \n",
       "kdfdc_sy                0.036250   0.006365     0.148635  0.342078  \n",
       "kked_sy                 0.059500   0.014241     0.247759  0.310125  \n",
       "kms_sy                  0.036250   0.006365     0.148635  0.342078  \n",
       "kpw_sy                  0.070500   0.020655     0.297345  0.289559  \n",
       "qal_sy                  0.100000   0.103766     0.496234  0.169908  \n",
       "qt_sy                   0.100000   0.103766     0.496234  0.169908  "
      ]
     },
     "execution_count": 12,
     "metadata": {},
     "output_type": "execute_result"
    }
   ],
   "source": [
    "create_param_unc(\"qsm_reweight.pst\")"
   ]
  },
  {
   "cell_type": "code",
   "execution_count": 16,
   "metadata": {},
   "outputs": [
    {
     "name": "stdout",
     "output_type": "stream",
     "text": [
      "param.unc file has been created...\n"
     ]
    }
   ],
   "source": [
    "test = create_param_unc(\"qsm_reweight.pst\")"
   ]
  },
  {
   "cell_type": "code",
   "execution_count": null,
   "metadata": {},
   "outputs": [],
   "source": []
  },
  {
   "cell_type": "code",
   "execution_count": null,
   "metadata": {},
   "outputs": [],
   "source": []
  },
  {
   "cell_type": "markdown",
   "metadata": {},
   "source": [
    "#### Calibration with SVD"
   ]
  },
  {
   "cell_type": "code",
   "execution_count": 5,
   "metadata": {},
   "outputs": [],
   "source": [
    "execute_beopest(wd, \"qsm_svd.pst\", 10)"
   ]
  },
  {
   "cell_type": "code",
   "execution_count": null,
   "metadata": {},
   "outputs": [],
   "source": []
  },
  {
   "cell_type": "markdown",
   "metadata": {},
   "source": [
    "#### Calibration with SVD-Reg"
   ]
  },
  {
   "cell_type": "code",
   "execution_count": 4,
   "metadata": {},
   "outputs": [],
   "source": [
    "execute_beopest(wd, \"svd-reg.pst\", 15)"
   ]
  },
  {
   "cell_type": "code",
   "execution_count": null,
   "metadata": {},
   "outputs": [],
   "source": []
  },
  {
   "cell_type": "markdown",
   "metadata": {},
   "source": [
    "#### Calibration"
   ]
  },
  {
   "cell_type": "code",
   "execution_count": 5,
   "metadata": {},
   "outputs": [],
   "source": [
    "execute_beopest(wd, \"qsm_reweight.pst\", 10)"
   ]
  },
  {
   "cell_type": "code",
   "execution_count": null,
   "metadata": {},
   "outputs": [],
   "source": []
  },
  {
   "cell_type": "code",
   "execution_count": 6,
   "metadata": {},
   "outputs": [
    {
     "data": {
      "text/plain": [
       "'ARSTXTEM4119734'"
      ]
     },
     "execution_count": 6,
     "metadata": {},
     "output_type": "execute_result"
    }
   ],
   "source": [
    "import socket\n",
    "socket.gethostname()"
   ]
  },
  {
   "cell_type": "code",
   "execution_count": null,
   "metadata": {},
   "outputs": [],
   "source": []
  }
 ],
 "metadata": {
  "anaconda-cloud": {},
  "interpreter": {
   "hash": "e2cd4a2c4044a442375d541a7af880af35b9f88daa7fc56a2d2af487495916f8"
  },
  "kernelspec": {
   "display_name": "Python 3",
   "language": "python",
   "name": "python3"
  },
  "language_info": {
   "codemirror_mode": {
    "name": "ipython",
    "version": 3
   },
   "file_extension": ".py",
   "mimetype": "text/x-python",
   "name": "python",
   "nbconvert_exporter": "python",
   "pygments_lexer": "ipython3",
   "version": "3.7.12"
  }
 },
 "nbformat": 4,
 "nbformat_minor": 4
}
